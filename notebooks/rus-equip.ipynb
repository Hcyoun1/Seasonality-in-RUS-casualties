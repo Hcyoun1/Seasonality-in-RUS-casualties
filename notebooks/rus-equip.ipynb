{
 "cells": [
  {
   "cell_type": "code",
   "execution_count": null,
   "metadata": {},
   "outputs": [],
   "source": [
    "import numpy as np \n",
    "import pandas as pd \n",
    "import matplotlib.pyplot as plt \n",
    "from statsmodels.tsa.statespace.sarimax import SARIMAX \n",
    "from statsmodels.tsa.arima.model import ARIMA\n",
    "import statsmodels.api as sm\n",
    "from statsmodels.tsa.seasonal import seasonal_decompose\n",
    "from statsmodels.tsa.stattools import adfuller \n",
    "from statsmodels.graphics.tsaplots import plot_acf, plot_pacf \n",
    "from sklearn.metrics import mean_absolute_error, mean_squared_error \n",
    "from sklearn.linear_model import LogisticRegression\n",
    "from sklearn.model_selection import KFold\n",
    "from datetime import datetime\n",
    "from scipy import stats\n",
    "from collections import defaultdict\n"
   ]
  },
  {
   "cell_type": "code",
   "execution_count": null,
   "metadata": {},
   "outputs": [],
   "source": [
    "\n",
    "ru_equip_deaths_df = pd.read_csv(\"./data/russia_losses_equipment.csv\")\n",
    "ru_equip_deaths_df.head()\n",
    "\n",
    "ru_pers_deaths_df = pd.read_csv(\"./data/russia_losses_personnel.csv\")\n",
    "ru_pers_deaths_df.head()\n",
    "\n",
    "global_Ttest = defaultdict(list)"
   ]
  },
  {
   "cell_type": "markdown",
   "metadata": {},
   "source": [
    "## Data is cumulative.\n",
    "###"
   ]
  },
  {
   "cell_type": "markdown",
   "metadata": {},
   "source": [
    "### This data is read from most recent to least recent. \n",
    "### for ease of understanding we will reverse this"
   ]
  },
  {
   "cell_type": "code",
   "execution_count": null,
   "metadata": {},
   "outputs": [],
   "source": [
    "ru_equip_deaths_df = ru_equip_deaths_df.sort_index(ascending=False)\n",
    "ru_equip_deaths_df.reset_index(inplace=True)\n",
    "ru_equip_deaths_df\n",
    "\n",
    "ru_pers_deaths_df = ru_pers_deaths_df.sort_index(ascending=False)\n",
    "ru_pers_deaths_df.reset_index(inplace=True)\n",
    "ru_pers_deaths_df.head()"
   ]
  },
  {
   "cell_type": "code",
   "execution_count": null,
   "metadata": {},
   "outputs": [],
   "source": [
    "from pandas.plotting import scatter_matrix\n",
    "import matplotlib.pyplot as plt\n",
    "# scatter_matrix(ru_equip_deaths_df,figsize=(12,12), diagonal=\"kde\");\n",
    "# plt.tight_layout()"
   ]
  },
  {
   "cell_type": "code",
   "execution_count": null,
   "metadata": {},
   "outputs": [],
   "source": [
    "ru_equip_deaths_df[\"tank\"].diff(1).plot.line(y=\"day\")\n",
    "# monthly_mean_tank_loss = "
   ]
  },
  {
   "cell_type": "code",
   "execution_count": null,
   "metadata": {},
   "outputs": [],
   "source": [
    "\n",
    "ru_pers_deaths_df[\"personnel\"].diff(1).plot.line(y=\"day\")\n"
   ]
  },
  {
   "cell_type": "code",
   "execution_count": null,
   "metadata": {},
   "outputs": [],
   "source": [
    " \n",
    "def check_stationarity(timeseries): \n",
    "    # Perform the Dickey-Fuller test \n",
    "    result = adfuller(timeseries, autolag='AIC') \n",
    "    p_value = result[1] \n",
    "    print(f'ADF Statistic: {result[0]}') \n",
    "    print(f'p-value: {p_value}') \n",
    "    print('Stationary' if p_value < 0.05 else 'Non-Stationary') \n",
    "\n",
    "check_stationarity(ru_pers_deaths_df[\"personnel\"].diff(1).dropna())\n"
   ]
  },
  {
   "cell_type": "code",
   "execution_count": null,
   "metadata": {},
   "outputs": [],
   "source": [
    "ru_pers_deaths_df[\"personnel\"].diff(1).dropna()\n"
   ]
  },
  {
   "cell_type": "code",
   "execution_count": null,
   "metadata": {},
   "outputs": [],
   "source": [
    "ru_equip_deaths_df[\"vehicles and fuel tanks\"].iloc[0]"
   ]
  },
  {
   "cell_type": "code",
   "execution_count": null,
   "metadata": {},
   "outputs": [],
   "source": [
    "ru_equip_deaths_df.info()\n",
    "# We know only the first 64 entries have nans. \n",
    "for i in range(65):\n",
    "    if pd.isna(ru_equip_deaths_df[\"vehicles and fuel tanks\"].iloc[i]):\n",
    "        ru_equip_deaths_df[\"vehicles and fuel tanks\"].iloc[i] = ru_equip_deaths_df[\"fuel tank\"].iloc[i] + ru_equip_deaths_df[\"military auto\"].iloc[i] \n",
    "\n",
    "ru_equip_deaths_df.info()\n"
   ]
  },
  {
   "cell_type": "markdown",
   "metadata": {},
   "source": [
    "## Create Diff columns"
   ]
  },
  {
   "cell_type": "code",
   "execution_count": null,
   "metadata": {},
   "outputs": [],
   "source": [
    "def create_diff_columns(df_name, column_name):\n",
    "    \"\"\"\n",
    "    Create a new dataframe column for the daily differences in loss rates \n",
    "    args: pandas dataframe, str name for column\n",
    "\n",
    "\n",
    "    \"\"\"\n",
    "    df_name[f\"{column_name} diff\"] = df_name[f\"{column_name}\"].diff(1)\n",
    "    df_name[f\"{column_name} diff\"][0] = df_name[f\"{column_name}\"][0]\n",
    "\n",
    "create_diff_columns(ru_equip_deaths_df, \"vehicles and fuel tanks\")\n",
    "create_diff_columns(ru_equip_deaths_df, \"tank\")\n",
    "create_diff_columns(ru_equip_deaths_df, \"APC\")\n",
    "create_diff_columns(ru_equip_deaths_df, \"field artillery\")\n",
    "ru_equip_deaths_df\n",
    "ru_equip_deaths_df[\"Dt_OBJ\"] = ru_equip_deaths_df['date'].apply(lambda x : datetime.strptime(x, '%Y-%m-%d'))\n",
    "ru_equip_deaths_df[\"Int_month\"] = ru_equip_deaths_df[\"Dt_OBJ\"].dt.month\n",
    "ru_equip_deaths_df[\"Int_year\"] = ru_equip_deaths_df[\"Dt_OBJ\"].dt.year\n",
    "ru_pers_deaths_df[\"Dt_OBJ\"] = ru_pers_deaths_df['date'].apply(lambda x : datetime.strptime(x, '%Y-%m-%d'))\n",
    "ru_pers_deaths_df[\"Int_month\"] = ru_pers_deaths_df[\"Dt_OBJ\"].dt.month\n",
    "ru_pers_deaths_df[\"Int_year\"] = ru_pers_deaths_df[\"Dt_OBJ\"].dt.year\n",
    "\n",
    "for i in range(len(ru_equip_deaths_df)):\n",
    "        if ru_equip_deaths_df[\"Int_month\"].iloc[i] == 12:\n",
    "            ru_equip_deaths_df.iloc[i,-1] += 1 "
   ]
  },
  {
   "cell_type": "code",
   "execution_count": null,
   "metadata": {},
   "outputs": [],
   "source": [
    "ru_equip_deaths_df[\"field artillery diff\"].plot.line(y=\"day\")"
   ]
  },
  {
   "cell_type": "markdown",
   "metadata": {},
   "source": [
    "## Groupby months to evaluate each monthly trend\n",
    "\n",
    "#### We'll use this to guide our seasonality checks"
   ]
  },
  {
   "cell_type": "code",
   "execution_count": null,
   "metadata": {},
   "outputs": [],
   "source": [
    "ru_equip_deaths_df[\"Dt_OBJ\"] = ru_equip_deaths_df['date'].apply(lambda x : datetime.strptime(x, '%Y-%m-%d'))\n",
    "\n",
    "# ru_equip_deaths_df.groupby(pd.Grouper(key='date', freq='M'))\n",
    "\n",
    "type(ru_equip_deaths_df[\"Dt_OBJ\"])\n",
    "# ru_equip_deaths_df[\"Dt_OBJ\"]\n",
    "# ru_equip_deaths_df.head()\n",
    "def monthly_analysis(df_obj, c_name):\n",
    "    by_month_df = ru_equip_deaths_df.groupby(pd.Grouper(key='Dt_OBJ', freq='M'))[\"tank diff\"]\n",
    "    \n",
    "\n",
    "\n",
    "\n",
    "\n",
    "ru_by_month_df = ru_equip_deaths_df.groupby(pd.Grouper(key='Dt_OBJ', freq='M'))\n",
    "ru_by_month_df.sum()[\"tank diff\"].plot.line()\n",
    "ru_by_month_df.sum()[\"tank diff\"]\n",
    "\n",
    "\n",
    "ru_pers_deaths_df[\"pers diff\"] = ru_pers_deaths_df[\"personnel\"].diff(1)\n",
    "ru_pers_deaths_df[\"pers diff\"][0] = 2800\n",
    "# ru_pers_deaths_df[\"pers diff\"]\n",
    "\n",
    "ru_pers_deaths_df[\"Dt_OBJ\"] = ru_pers_deaths_df['date'].apply(lambda x : datetime.strptime(x, '%Y-%m-%d'))\n",
    "ru_pers_deaths_df.head()\n",
    "ru_pers_by_month_df = ru_pers_deaths_df.groupby(pd.Grouper(key='Dt_OBJ', freq='M'))\n",
    "ru_pers_by_month_df.sum()[\"pers diff\"]\n",
    "ru_pers_deaths_df['Dt_OBJ'][1].month\n"
   ]
  },
  {
   "cell_type": "markdown",
   "metadata": {},
   "source": [
    "# Create season dataframes"
   ]
  },
  {
   "cell_type": "code",
   "execution_count": null,
   "metadata": {},
   "outputs": [],
   "source": [
    "print(ru_pers_deaths_df['Dt_OBJ'][0].month)\n",
    "\n",
    "\n",
    "def create_seasonal_comparisons(df_name, column_name, color):\n",
    "    df_name[\"Int_month\"] = df_name[\"Dt_OBJ\"].dt.month\n",
    "    ru_deaths_summerdf = df_name[(df_name[\"Int_month\"] == 6) | (df_name[\"Int_month\"] == 7) |\n",
    "                                                (df_name[\"Int_month\"] == 8)]\n",
    "    ru_deaths_falldf = df_name[(df_name[\"Int_month\"] == 9) | (df_name[\"Int_month\"] == 10) |\n",
    "                                                (df_name[\"Int_month\"] == 11)]\n",
    "    ru_deaths_winterdf = df_name[(df_name[\"Int_month\"] == 12) | (df_name[\"Int_month\"] == 1) |\n",
    "                                                (df_name[\"Int_month\"] == 2)]\n",
    "    ru_deaths_springdf = df_name[(df_name[\"Int_month\"] == 3) | (df_name[\"Int_month\"] == 4) |\n",
    "                                                (df_name[\"Int_month\"] == 5)]\n",
    "    # Add Nones between years\n",
    "    ru_deaths_summerdf[f\"{column_name}\"].plot()\n",
    "    ru_deaths_springdf[f\"{column_name}\"].plot()\n",
    "    ru_deaths_falldf[f\"{column_name}\"].plot()\n",
    "    ru_deaths_winterdf[f\"{column_name}\"].plot()\n",
    "    print(\"Summer mean:\", ru_deaths_summerdf[f\"{column_name}\"].mean())\n",
    "    print(\"Spring mean:\" ,ru_deaths_springdf[f\"{column_name}\"].mean())\n",
    "    print(\"Fall mean:\" ,ru_deaths_falldf[f\"{column_name}\"].mean())\n",
    "    print(\"Winter mean:\" ,ru_deaths_winterdf[f\"{column_name}\"].mean())\n",
    "    \n",
    "    print(\"Winter vs Spring:\" , stats.ttest_ind(ru_deaths_winterdf[f\"{column_name}\"], ru_deaths_springdf[f\"{column_name}\"]))\n",
    "    print(\"Summer vs Spring:\" ,stats.ttest_ind(ru_deaths_summerdf[f\"{column_name}\"], ru_deaths_springdf[f\"{column_name}\"]))\n",
    "    print(\"Fall vs Spring:\" ,stats.ttest_ind(ru_deaths_falldf[f\"{column_name}\"], ru_deaths_springdf[f\"{column_name}\"]))\n",
    "\n",
    "# Add color vairable, change seasonal plot\n",
    "\n",
    "\n",
    "def trend_line_w_outliers(df_name, column_name, draw_data=False, draw_trend=True):\n",
    "    \n",
    "    \n",
    "    ru_deaths_summerdf = df_name[(df_name[\"Int_month\"] == 6) | (df_name[\"Int_month\"] == 7) |\n",
    "                                                (df_name[\"Int_month\"] == 8)]\n",
    "    ru_deaths_falldf = df_name[(df_name[\"Int_month\"] == 9) | (df_name[\"Int_month\"] == 10) |\n",
    "                                                (df_name[\"Int_month\"] == 11)]\n",
    "    ru_deaths_winterdf = df_name[(df_name[\"Int_month\"] == 12) | (df_name[\"Int_month\"] == 1) |\n",
    "                                                (df_name[\"Int_month\"] == 2)]\n",
    "    ru_deaths_springdf = df_name[(df_name[\"Int_month\"] == 3) | (df_name[\"Int_month\"] == 4) |\n",
    "                                                (df_name[\"Int_month\"] == 5)]\n",
    "    plt.figure(figsize=(12, 6))\n",
    "\n",
    "    summer_std = ru_deaths_summerdf[f\"{column_name}\"].std()\n",
    "    fall_std = ru_deaths_falldf[f\"{column_name}\"].std()\n",
    "    winter_std = ru_deaths_winterdf[f\"{column_name}\"].std()\n",
    "    spring_std = ru_deaths_springdf[f\"{column_name}\"].std()\n",
    "    if draw_data:\n",
    "        plt.plot(df_name[\"Dt_OBJ\"],df_name[f\"{column_name}\"])\n",
    "    \n",
    "    draw_trend_line(ru_deaths_summerdf,column_name,draw_trend)\n",
    "    draw_trend_line(ru_deaths_falldf,column_name,draw_trend)\n",
    "    draw_trend_line(ru_deaths_winterdf,column_name,draw_trend)\n",
    "    draw_trend_line(ru_deaths_springdf,column_name,draw_trend)\n",
    "    \n",
    "    \n",
    "\n",
    "def draw_trend_line(df_name, column_name, draw_trend=True):\n",
    "    #Attach december to the next year for plotting purposes\n",
    "    \n",
    "\n",
    "\n",
    "    yearly_data = df_name.groupby(df_name[\"Int_year\"])\n",
    "    df_name_mean = df_name[f\"{column_name}\"].median()\n",
    "    \n",
    "    for year, data in yearly_data:\n",
    "        # print(\"yearly\", year, data.head())\n",
    "        df_name_std = data[f\"{column_name}\"].std()\n",
    "        df_name_mean = data[f\"{column_name}\"].mean()\n",
    "        # print(f\"{year}:STD : {df_name_std}\")\n",
    "        # print(f\"{year}:mean : {df_name_mean}\")\n",
    "        \n",
    "        first_point = data.iloc[0]\n",
    "        last_point = data.iloc[-1]\n",
    "        if draw_trend:\n",
    "            plt.plot([first_point[\"Dt_OBJ\"], last_point[\"Dt_OBJ\"]], \n",
    "                    [first_point[f'{column_name}'], last_point[f'{column_name}']], \n",
    "                    marker='o')\n",
    "        \n",
    "        for points in range(len(data)):\n",
    "            \n",
    "            if (data[f\"{column_name}\"].iloc[points] > (df_name_std * 2) + df_name_mean):\n",
    "                #or (df_name[f\"{column_name}\"].iloc[points] < df_name_mean - df_name_std)\n",
    "                # print(\" Outlier at \",data[\"Int_month\"].iloc[points],  data[f\"{column_name}\"].iloc[points])\n",
    "\n",
    "                plt.plot(data[\"Dt_OBJ\"].iloc[points],data[f\"{column_name}\"].iloc[points], marker='x',color=\"black\")\n",
    "\n",
    "    \n",
    "    plt.xlabel('Date')\n",
    "    plt.ylabel('Value')\n",
    "    plt.title('Trend Lines for Each Month')\n",
    "    plt.legend()\n",
    "    plt.grid(True)\n",
    "\n",
    "# y = df['passengers']\n",
    "# x = df['lag_1']\n",
    "# model = sm.OLS(y, sm.add_constant(x))\n",
    "# results = model.fit()\n",
    "# b, m = results.params\n",
    "# IQR, standard deviation to find outliers. plot them, take linear regression lines for each season"
   ]
  },
  {
   "cell_type": "code",
   "execution_count": null,
   "metadata": {},
   "outputs": [],
   "source": [
    "for i in range(len(ru_pers_deaths_df)):\n",
    "        if ru_pers_deaths_df[\"Int_month\"].iloc[i] == 12:\n",
    "            ru_pers_deaths_df.iloc[i, ru_pers_deaths_df.columns.get_loc('Int_year')] += 1\n",
    "\n",
    "trend_line_w_outliers(ru_pers_deaths_df, \"pers diff\",draw_data=True)\n",
    "\n",
    "\n",
    "# SNS.REGPLOT"
   ]
  },
  {
   "cell_type": "code",
   "execution_count": null,
   "metadata": {},
   "outputs": [],
   "source": [
    "\n",
    "\n",
    "ru_equip_deaths_df[ru_equip_deaths_df[\"Int_month\"] == 12]\n",
    "#remember iterrows"
   ]
  },
  {
   "cell_type": "code",
   "execution_count": null,
   "metadata": {},
   "outputs": [],
   "source": [
    "trend_line_w_outliers(ru_equip_deaths_df, \"tank diff\",draw_data=False,draw_trend=True)\n",
    "# Maybe remove initial"
   ]
  },
  {
   "cell_type": "code",
   "execution_count": null,
   "metadata": {},
   "outputs": [],
   "source": [
    "trend_line_w_outliers(ru_equip_deaths_df, \"APC diff\",draw_data=True,draw_trend=False)"
   ]
  },
  {
   "cell_type": "code",
   "execution_count": null,
   "metadata": {},
   "outputs": [],
   "source": [
    "trend_line_w_outliers(ru_equip_deaths_df, \"field artillery diff\",draw_data=True,draw_trend=False)"
   ]
  },
  {
   "cell_type": "code",
   "execution_count": null,
   "metadata": {},
   "outputs": [],
   "source": [
    "plt.figure(figsize=(12, 6))\n",
    "ru_pers_deaths_df.plot.line(x=\"Dt_OBJ\", y=\"pers diff\")"
   ]
  },
  {
   "cell_type": "code",
   "execution_count": null,
   "metadata": {},
   "outputs": [],
   "source": [
    "\n",
    "create_seasonal_comparisons(ru_pers_deaths_df, \"pers diff\")\n"
   ]
  },
  {
   "cell_type": "code",
   "execution_count": null,
   "metadata": {},
   "outputs": [],
   "source": [
    "create_seasonal_comparisons(ru_equip_deaths_df, \"APC diff\")"
   ]
  },
  {
   "cell_type": "code",
   "execution_count": null,
   "metadata": {},
   "outputs": [],
   "source": [
    "create_seasonal_comparisons(ru_equip_deaths_df, \"field artillery diff\")"
   ]
  },
  {
   "cell_type": "code",
   "execution_count": null,
   "metadata": {},
   "outputs": [],
   "source": [
    "\n",
    "create_seasonal_comparisons(ru_equip_deaths_df, \"vehicles and fuel tanks diff\")"
   ]
  },
  {
   "cell_type": "code",
   "execution_count": null,
   "metadata": {},
   "outputs": [],
   "source": [
    "def seasonal_decomposition(df_name, column_name):\n",
    "    equip_analysis = df_name.loc[0::,[\"Dt_OBJ\", f\"{column_name} diff\"]]\n",
    "    equip_analysis.set_index(\"Dt_OBJ\", inplace=True)\n",
    "    decompose_result = seasonal_decompose(equip_analysis,period=90)\n",
    "    trend = decompose_result.trend\n",
    "    seasonal = decompose_result.seasonal\n",
    "    resid_season = decompose_result.resid\n",
    "    decompose_result.plot()\n",
    "    return decompose_result\n",
    "\n",
    "APC_decomp = seasonal_decomposition(ru_equip_deaths_df,\"APC\")"
   ]
  },
  {
   "cell_type": "code",
   "execution_count": null,
   "metadata": {},
   "outputs": [],
   "source": [
    "trend.plot()\n",
    "plt.axvline(x=datetime(2022,8,29),color=\"red\")\n",
    "plt.axvline(x=datetime(2023,9,1))\n",
    "plt.axvline(x=datetime(2022,7,3),color=\"black\")"
   ]
  },
  {
   "cell_type": "code",
   "execution_count": null,
   "metadata": {},
   "outputs": [],
   "source": [
    "pers_decomp = seasonal_decomposition(ru_pers_deaths_df,\"pers\")"
   ]
  },
  {
   "cell_type": "code",
   "execution_count": null,
   "metadata": {},
   "outputs": [],
   "source": [
    "trend.plot()\n",
    "plt.axvline(x=datetime(2022,8,29),color=\"red\")\n",
    "plt.axvline(x=datetime(2023,9,1))\n",
    "plt.axvline(x=datetime(2022,7,3),color=\"black\")"
   ]
  },
  {
   "cell_type": "code",
   "execution_count": null,
   "metadata": {},
   "outputs": [],
   "source": [
    "ru_by_month_df[\"tank diff\"].mean().plot.line()\n"
   ]
  },
  {
   "cell_type": "code",
   "execution_count": null,
   "metadata": {},
   "outputs": [],
   "source": [
    "ru_by_month_df.sum()[\"tank diff\"].plot.line()"
   ]
  },
  {
   "cell_type": "code",
   "execution_count": null,
   "metadata": {},
   "outputs": [],
   "source": [
    "ru_pers_by_month_df.sum()[\"pers diff\"]\n",
    "ru_pers_by_month_df[\"pers diff\"].mean().plot.line()"
   ]
  },
  {
   "cell_type": "code",
   "execution_count": null,
   "metadata": {},
   "outputs": [],
   "source": [
    "#testing lags at different areas\n",
    "\n",
    "# group into seasons, compare means of seasons, drop back into days, t-test\n",
    "# seasonal decomposition sarima\n",
    "\n",
    "# outlier analysis"
   ]
  },
  {
   "cell_type": "markdown",
   "metadata": {},
   "source": [
    "### Checks for stationarity"
   ]
  },
  {
   "cell_type": "code",
   "execution_count": null,
   "metadata": {},
   "outputs": [],
   "source": [
    "check_stationarity(ru_equip_deaths_df[\"vehicles and fuel tanks diff\"])"
   ]
  },
  {
   "cell_type": "code",
   "execution_count": null,
   "metadata": {},
   "outputs": [],
   "source": [
    "ru_equip_deaths_df[\"vehicles and fuel tanks\"].diff(1).dropna().plot.line(y=\"day\")"
   ]
  },
  {
   "cell_type": "code",
   "execution_count": null,
   "metadata": {},
   "outputs": [],
   "source": [
    "check_stationarity(ru_equip_deaths_df[\"tank\"].diff(1).dropna())"
   ]
  },
  {
   "cell_type": "code",
   "execution_count": null,
   "metadata": {},
   "outputs": [],
   "source": []
  },
  {
   "cell_type": "code",
   "execution_count": null,
   "metadata": {},
   "outputs": [],
   "source": [
    "from pandas.plotting import autocorrelation_plot\n",
    "autocorrelation_plot(ru_equip_deaths_df[\"tank\"].diff(1).dropna())\n",
    "autocorrelation_plot(ru_equip_deaths_df[\"tank\"].dropna())\n"
   ]
  },
  {
   "cell_type": "code",
   "execution_count": null,
   "metadata": {},
   "outputs": [],
   "source": [
    "autocorrelation_plot(ru_equip_deaths_df[\"vehicles and fuel tanks\"].diff(1).dropna())"
   ]
  },
  {
   "cell_type": "code",
   "execution_count": null,
   "metadata": {},
   "outputs": [],
   "source": [
    "ru_equip_deaths_df[\"tank\"].diff(1).dropna().hist()"
   ]
  },
  {
   "cell_type": "code",
   "execution_count": null,
   "metadata": {},
   "outputs": [],
   "source": [
    "ru_pers_deaths_df[\"personnel\"].diff(-1).dropna().hist()"
   ]
  },
  {
   "cell_type": "code",
   "execution_count": null,
   "metadata": {},
   "outputs": [],
   "source": [
    "autocorrelation_plot(ru_pers_deaths_df[\"personnel\"].diff(-1).dropna())"
   ]
  },
  {
   "cell_type": "code",
   "execution_count": null,
   "metadata": {},
   "outputs": [],
   "source": [
    "plot_acf(ru_equip_deaths_df[\"tank\"].diff(1).dropna()) \n",
    "plot_pacf(ru_equip_deaths_df[\"tank\"].diff(1).dropna()) \n",
    "plt.show()"
   ]
  },
  {
   "cell_type": "code",
   "execution_count": null,
   "metadata": {},
   "outputs": [],
   "source": [
    "autocorrelation_plot(ru_equip_deaths_df[\"tank\"].diff(1).dropna())"
   ]
  },
  {
   "cell_type": "markdown",
   "metadata": {},
   "source": [
    "# Linear regression for the Seasons\n",
    "\n",
    "###### For everything turn, turn, turn"
   ]
  },
  {
   "cell_type": "code",
   "execution_count": null,
   "metadata": {},
   "outputs": [],
   "source": [
    "# use pd.cut to bin by seasons (i.e. spring, summer, fall, winter), according to the ukrainian climate.\n",
    "# hypothesis, there will be a statistically significant change in casualty rates \n",
    "# across vehicle and personnel in spring and winter.\n",
    "# Furthermore that change will be lower than summer and fall casualty rates"
   ]
  },
  {
   "cell_type": "markdown",
   "metadata": {},
   "source": [
    "# The SARIMA MODELS"
   ]
  },
  {
   "cell_type": "markdown",
   "metadata": {},
   "source": [
    "## Code below here is Fitting and reviewing models.\n",
    "##### These may be computationally expensive!"
   ]
  },
  {
   "cell_type": "code",
   "execution_count": null,
   "metadata": {},
   "outputs": [],
   "source": [
    "  \n",
    "# Define SARIMA parameters \n",
    "p, d, q = 8, 1, 3 \n",
    "P, D, Q, s = 1, 1, 1, 90   # Assuming tri-month seasonality, fit to seasons\n",
    "  \n",
    "# Fit the SARIMA model \n",
    "# ar_model = ARIMA(ru_equip_deaths_df[\"tank\"].diff(1).dropna(), order=(p,d,q))\n",
    "model = SARIMAX(ru_equip_deaths_df[\"tank\"].diff(1).dropna(), order=(p, d, q), seasonal_order=(P, D, Q, s)) \n",
    "results = model.fit() \n"
   ]
  },
  {
   "cell_type": "code",
   "execution_count": null,
   "metadata": {},
   "outputs": [],
   "source": [
    "'''P VALUE TESTER\n",
    "'''\n",
    "\n",
    "p, d, q = 9, 1, 1 \n",
    "P, D, Q, s = 1, 1, 1, 90   # just goofin around\n",
    "  \n",
    "# Fit the SARIMA model \n",
    "# ar_model = ARIMA(ru_equip_deaths_df[\"tank\"].diff(1).dropna(), order=(p,d,q))\n",
    "model_p_fault = SARIMAX(ru_equip_deaths_df[\"tank\"].diff(1).dropna(), order=(p, d, q), seasonal_order=(P, D, Q, s)) \n",
    "results_p_fault = model_p_fault.fit() "
   ]
  },
  {
   "cell_type": "code",
   "execution_count": null,
   "metadata": {},
   "outputs": [],
   "source": [
    "p, d, q = 9, 1, 1 \n",
    "P, D, Q, s = 1, 1, 1, 30   # Assuming monthly seasonality \n",
    "  \n",
    "# Fit the SARIMA model \n",
    "# ar_model = ARIMA(ru_equip_deaths_df[\"tank\"].diff(1).dropna(), order=(p,d,q))\n",
    "model_third = SARIMAX(ru_equip_deaths_df[\"tank\"].diff(1).dropna(), order=(p, d, q), seasonal_order=(P, D, Q, s)) \n",
    "results_third = model_third.fit() "
   ]
  },
  {
   "cell_type": "code",
   "execution_count": null,
   "metadata": {},
   "outputs": [],
   "source": [
    "predictions = results.predict(start=0, end=len(ru_equip_deaths_df)-1)\n",
    "predictions_third = results_third.predict(start=0, end=len(ru_equip_deaths_df)-1)\n"
   ]
  },
  {
   "cell_type": "code",
   "execution_count": null,
   "metadata": {},
   "outputs": [],
   "source": [
    "forecast = results.get_forecast(steps=90)\n",
    "\n",
    "forecast_df = pd.DataFrame(forecast.predicted_mean)\n",
    "forecast_df"
   ]
  },
  {
   "cell_type": "code",
   "execution_count": null,
   "metadata": {},
   "outputs": [],
   "source": [
    "results.summary()"
   ]
  },
  {
   "cell_type": "code",
   "execution_count": null,
   "metadata": {},
   "outputs": [],
   "source": [
    "\n",
    "'''ARIMA\n",
    "Model:\tSARIMAX(1, 1, 3)x(1, 1, [1], 90)\tLog Likelihood\t-2680.787\n",
    "Date:\tFri, 19 Jul 2024\tAIC\t5375.575\n",
    "Time:\t15:48:34\tBIC\t5408.181\n",
    "Sample:\t0\tHQIC\t5388.116\n",
    "\n",
    "'''\n",
    "results_p_fault.summary()"
   ]
  },
  {
   "cell_type": "code",
   "execution_count": null,
   "metadata": {},
   "outputs": [],
   "source": [
    "results_third.summary()\n",
    "#aic: 5673\n",
    "'''ARIMA\n",
    "Model:\tSARIMAX(9, 1, 1)x(1, 1, 1, 30)\tLog Likelihood\t-2821.540\n",
    "                    AIC 5669.081\n",
    "Time:\t15:00:55\tBIC\t5730.599\n",
    "Sample:\t0\tHQIC\t5692.660\n",
    "\n",
    "\n",
    "\n",
    "\n",
    "'''"
   ]
  },
  {
   "cell_type": "code",
   "execution_count": null,
   "metadata": {},
   "outputs": [],
   "source": [
    "# fig, ax = plt.subplots()\n",
    "forecast_third = results_third.get_forecast(steps=90)\n",
    "\n",
    "forecast_df_third = pd.DataFrame(forecast_third.predicted_mean)\n",
    "forecast_df.plot.line()\n",
    "# forecast_df_third.plot.line()\n",
    "ru_equip_deaths_df[\"tank\"].diff(1).dropna().plot.line()"
   ]
  },
  {
   "cell_type": "markdown",
   "metadata": {},
   "source": [
    "#### Tank losses per day cannot be negative\n",
    "##### Roll through predictions and set negative predicts to zero"
   ]
  },
  {
   "cell_type": "code",
   "execution_count": null,
   "metadata": {},
   "outputs": [],
   "source": [
    "predictions[predictions < 0] = 0\n"
   ]
  },
  {
   "cell_type": "code",
   "execution_count": null,
   "metadata": {},
   "outputs": [],
   "source": [
    "autocorrelation_plot(predictions.dropna())\n",
    "# autocorrelation_plot(predictions_third.dropna())\n",
    "autocorrelation_plot(ru_equip_deaths_df[\"tank\"].diff(1).dropna())"
   ]
  },
  {
   "cell_type": "code",
   "execution_count": null,
   "metadata": {},
   "outputs": [],
   "source": [
    "ru_equip_deaths_df[\"tank\"].diff(1).dropna().plot.line()\n",
    "predictions.plot.line()\n"
   ]
  },
  {
   "cell_type": "code",
   "execution_count": null,
   "metadata": {},
   "outputs": [],
   "source": [
    "residuals = ru_equip_deaths_df[\"tank\"].diff(1).dropna() - predictions\n",
    "residuals.dropna(inplace=True)\n",
    "\n",
    "residuals = pd.DataFrame(residuals)\n",
    "residuals.reset_index()\n",
    "residuals.columns = ['diff']\n",
    "\n",
    "\n",
    "fig, ax = plt.subplots(figsize=(14, 4))\n",
    "# ax.scatter(range(len(predictions)), predictions, color=\"red\", label=\"y true values\")\n",
    "ax.scatter(range(len(residuals)), residuals, color=\"k\", label='y_hat')\n",
    "# for i in range(1, len(predictions)):\n",
    "#     plt.vlines(i,residuals['diff'][i],predictions[i],color=\"k\", linestyle=\"--\")\n",
    "\n",
    "    # 0,y_hat[0],y[0],color=\"k\", linestyle=\"--\"\n",
    "ax.legend()\n",
    "plt.title(\"AVG EXP\")\n",
    "plt.show()\n",
    "\n",
    "\n",
    "# AIC, BIC"
   ]
  },
  {
   "cell_type": "code",
   "execution_count": null,
   "metadata": {},
   "outputs": [],
   "source": [
    "cas_residuals = results.resid\n",
    "cas_residuals\n",
    "predictions[predictions < 0] = 0\n",
    "plt.scatter(predictions[1::], cas_residuals)\n",
    "plt.axhline(y=0,color=\"orange\",linestyle=\"--\")\n",
    "plt.show()\n"
   ]
  },
  {
   "cell_type": "code",
   "execution_count": null,
   "metadata": {},
   "outputs": [],
   "source": [
    "autocorrelation_plot(cas_residuals)"
   ]
  },
  {
   "cell_type": "code",
   "execution_count": null,
   "metadata": {},
   "outputs": [],
   "source": [
    "ru_equip_deaths_df[\"tank\"].diff(1).plot.line(y=\"day\")"
   ]
  },
  {
   "cell_type": "code",
   "execution_count": null,
   "metadata": {},
   "outputs": [],
   "source": [
    "ru_equip_deaths_df[\"tank\"].plot.line(y=\"day\")\n",
    "ru_equip_deaths_df[\"tank\"]"
   ]
  }
 ],
 "metadata": {
  "kernelspec": {
   "display_name": "base",
   "language": "python",
   "name": "python3"
  },
  "language_info": {
   "codemirror_mode": {
    "name": "ipython",
    "version": 3
   },
   "file_extension": ".py",
   "mimetype": "text/x-python",
   "name": "python",
   "nbconvert_exporter": "python",
   "pygments_lexer": "ipython3",
   "version": "3.11.7"
  }
 },
 "nbformat": 4,
 "nbformat_minor": 2
}
