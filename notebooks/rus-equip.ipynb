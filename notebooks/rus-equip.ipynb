{
 "cells": [
  {
   "cell_type": "code",
   "execution_count": null,
   "metadata": {},
   "outputs": [],
   "source": [
    "import numpy as np \n",
    "import pandas as pd \n",
    "import matplotlib.pyplot as plt \n",
    "from statsmodels.tsa.statespace.sarimax import SARIMAX \n",
    "from statsmodels.tsa.arima.model import ARIMA\n",
    "import statsmodels.api as sm\n",
    "from statsmodels.tsa.seasonal import seasonal_decompose\n",
    "from statsmodels.tsa.stattools import adfuller \n",
    "from statsmodels.graphics.tsaplots import plot_acf, plot_pacf \n",
    "from sklearn.metrics import mean_absolute_error, mean_squared_error \n",
    "from sklearn.linear_model import LogisticRegression\n",
    "from sklearn.model_selection import KFold\n",
    "from datetime import datetime\n",
    "from scipy import stats\n",
    "from collections import defaultdict\n"
   ]
  },
  {
   "cell_type": "code",
   "execution_count": null,
   "metadata": {},
   "outputs": [],
   "source": [
    "# install pmdarima for model estimation\n",
    "! pip install pmdarima"
   ]
  },
  {
   "cell_type": "code",
   "execution_count": null,
   "metadata": {},
   "outputs": [],
   "source": [
    "from pmdarima.arima import auto_arima"
   ]
  },
  {
   "cell_type": "code",
   "execution_count": null,
   "metadata": {},
   "outputs": [],
   "source": [
    "\n",
    "ru_equip_deaths_df = pd.read_csv(\"../data/russia_losses_equipment.csv\")\n",
    "ru_equip_deaths_df.head()\n",
    "\n",
    "ru_pers_deaths_df = pd.read_csv(\"../data/russia_losses_personnel.csv\")\n",
    "ru_pers_deaths_df.head()\n",
    "\n",
    "# May not get to this. incorporate a global list that holds all T-Test results across all tests\n",
    "global_Ttest = defaultdict(list)"
   ]
  },
  {
   "cell_type": "markdown",
   "metadata": {},
   "source": [
    "## Data is cumulative.\n",
    "###"
   ]
  },
  {
   "cell_type": "markdown",
   "metadata": {},
   "source": [
    "### This data is read from most recent to least recent. \n",
    "### for ease of understanding we will reverse this"
   ]
  },
  {
   "cell_type": "code",
   "execution_count": null,
   "metadata": {},
   "outputs": [],
   "source": [
    "ru_equip_deaths_df = ru_equip_deaths_df.sort_index(ascending=False)\n",
    "ru_equip_deaths_df.reset_index(inplace=True)\n",
    "ru_equip_deaths_df\n",
    "\n",
    "ru_pers_deaths_df = ru_pers_deaths_df.sort_index(ascending=False)\n",
    "ru_pers_deaths_df.reset_index(inplace=True)\n",
    "ru_pers_deaths_df"
   ]
  },
  {
   "cell_type": "code",
   "execution_count": null,
   "metadata": {},
   "outputs": [],
   "source": [
    "#EDA scatter matrix.  uncomment the below lines to take a look at potential relationships\n",
    "from pandas.plotting import scatter_matrix\n",
    "import matplotlib.pyplot as plt\n",
    "# scatter_matrix(ru_equip_deaths_df,figsize=(12,12), diagonal=\"kde\");\n",
    "# plt.tight_layout()"
   ]
  },
  {
   "cell_type": "code",
   "execution_count": null,
   "metadata": {},
   "outputs": [],
   "source": [
    "ru_equip_deaths_df[\"tank\"].diff(1).plot.line(y=\"day\")\n",
    "# monthly_mean_tank_loss = \n"
   ]
  },
  {
   "cell_type": "code",
   "execution_count": null,
   "metadata": {},
   "outputs": [],
   "source": [
    "\n",
    "ru_pers_deaths_df[\"personnel\"].diff(1).plot.line(y=\"day\")\n",
    "# rework and relabel these plots"
   ]
  },
  {
   "cell_type": "code",
   "execution_count": null,
   "metadata": {},
   "outputs": [],
   "source": [
    "# stationarity check for our time series data. This will be important for our SARIMA model \n",
    "\n",
    "def check_stationarity(timeseries): \n",
    "    # Perform the Dickey-Fuller test \n",
    "    result = adfuller(timeseries, autolag='AIC') \n",
    "    p_value = result[1] \n",
    "    print(f'ADF Statistic: {result[0]}') \n",
    "    print(f'p-value: {p_value}') \n",
    "    print('Stationary' if p_value < 0.05 else 'Non-Stationary') \n",
    "\n",
    "check_stationarity(ru_pers_deaths_df[\"personnel\"].diff(1).dropna())\n"
   ]
  },
  {
   "cell_type": "code",
   "execution_count": null,
   "metadata": {},
   "outputs": [],
   "source": [
    "ru_pers_deaths_df[\"personnel\"].diff(1).dropna()\n"
   ]
  },
  {
   "cell_type": "code",
   "execution_count": null,
   "metadata": {},
   "outputs": [],
   "source": [
    "ru_equip_deaths_df[\"vehicles and fuel tanks\"].iloc[0]"
   ]
  },
  {
   "cell_type": "code",
   "execution_count": null,
   "metadata": {},
   "outputs": [],
   "source": [
    "ru_equip_deaths_df.info()\n",
    "# We know only the first 64 entries have nans. merge the data from these two fields\n",
    "for i in range(65):\n",
    "    if pd.isna(ru_equip_deaths_df[\"vehicles and fuel tanks\"].iloc[i]):\n",
    "        ru_equip_deaths_df[\"vehicles and fuel tanks\"].iloc[i] = ru_equip_deaths_df[\"fuel tank\"].iloc[i] \\\n",
    "        + ru_equip_deaths_df[\"military auto\"].iloc[i] \n",
    "\n",
    "ru_equip_deaths_df.info()\n"
   ]
  },
  {
   "cell_type": "markdown",
   "metadata": {},
   "source": [
    "## Create Diff columns"
   ]
  },
  {
   "cell_type": "code",
   "execution_count": null,
   "metadata": {},
   "outputs": [],
   "source": [
    "def create_diff_columns(df_name, column_name):\n",
    "    \"\"\"\n",
    "    Create a new dataframe column for the daily differences in loss rates \n",
    "    args: pandas dataframe, str name for column\n",
    "\n",
    "\n",
    "    \"\"\"\n",
    "    df_name[f\"{column_name} diff\"] = df_name[f\"{column_name}\"].diff(1)\n",
    "    df_name[f\"{column_name} diff\"][0] = df_name[f\"{column_name}\"][0]\n",
    "\n",
    "# these are the four I will focus on \n",
    "create_diff_columns(ru_equip_deaths_df, \"vehicles and fuel tanks\")\n",
    "create_diff_columns(ru_equip_deaths_df, \"tank\")\n",
    "create_diff_columns(ru_equip_deaths_df, \"APC\")\n",
    "create_diff_columns(ru_equip_deaths_df, \"field artillery\")\n",
    "create_diff_columns(ru_pers_deaths_df, \"personnel\")\n",
    "\n",
    "\n",
    "\n",
    "# Create columns for a Datetime object and for the int month and int year for calculations\n",
    "#these are only made once for each csv\n",
    "ru_equip_deaths_df[\"Dt_OBJ\"] = ru_equip_deaths_df['date'].apply(lambda x : datetime.strptime(x, '%Y-%m-%d'))\n",
    "ru_equip_deaths_df[\"Int_month\"] = ru_equip_deaths_df[\"Dt_OBJ\"].dt.month\n",
    "ru_equip_deaths_df[\"Int_year\"] = ru_equip_deaths_df[\"Dt_OBJ\"].dt.year\n",
    "\n",
    "ru_pers_deaths_df[\"Dt_OBJ\"] = ru_pers_deaths_df['date'].apply(lambda x : datetime.strptime(x, '%Y-%m-%d'))\n",
    "ru_pers_deaths_df[\"Int_month\"] = ru_pers_deaths_df[\"Dt_OBJ\"].dt.month\n",
    "ru_pers_deaths_df[\"Int_year\"] = ru_pers_deaths_df[\"Dt_OBJ\"].dt.year\n",
    "\n",
    "\n",
    "# For season calculations we fake the year december is in so visualizations won't be a problem\n",
    "#actual datetime value will not change or interfere with data\n",
    "for i in range(len(ru_equip_deaths_df)):\n",
    "        if ru_equip_deaths_df[\"Int_month\"].iloc[i] == 12:\n",
    "            ru_equip_deaths_df.iloc[i,-1] += 1 "
   ]
  },
  {
   "cell_type": "code",
   "execution_count": null,
   "metadata": {},
   "outputs": [],
   "source": [
    "ru_equip_deaths_df[\"field artillery diff\"].plot.line(y=\"day\")"
   ]
  },
  {
   "cell_type": "markdown",
   "metadata": {},
   "source": [
    "## Groupby months to evaluate each monthly trend\n",
    "\n",
    "#### We'll use this to guide our seasonality checks"
   ]
  },
  {
   "cell_type": "code",
   "execution_count": null,
   "metadata": {},
   "outputs": [],
   "source": [
    "# currently deprecated other than creating the DT objects. \n",
    "\n",
    "# ru_equip_deaths_df[\"Dt_OBJ\"] = ru_equip_deaths_df['date'].apply(lambda x : datetime.strptime(x, '%Y-%m-%d'))\n",
    "\n",
    "# # ru_equip_deaths_df.groupby(pd.Grouper(key='date', freq='M'))\n",
    "\n",
    "# # type(ru_equip_deaths_df[\"Dt_OBJ\"])\n",
    "# # # ru_equip_deaths_df[\"Dt_OBJ\"]\n",
    "# # # ru_equip_deaths_df.head()\n",
    "# # def monthly_analysis(df_obj, c_name):\n",
    "# #     by_month_df = ru_equip_deaths_df.groupby(pd.Grouper(key='Dt_OBJ', freq='M'))[\"tank diff\"]\n",
    "    \n",
    "\n",
    "\n",
    "\n",
    "\n",
    "# # ru_by_month_df = ru_equip_deaths_df.groupby(pd.Grouper(key='Dt_OBJ', freq='M'))\n",
    "# # ru_by_month_df.sum()[\"tank diff\"].plot.line()\n",
    "# # ru_by_month_df.sum()[\"tank diff\"]\n",
    "\n",
    "\n",
    "# ru_pers_deaths_df[\"pers diff\"] = ru_pers_deaths_df[\"personnel\"].diff(1)\n",
    "# ru_pers_deaths_df[\"pers diff\"][0] = 2800\n",
    "# # ru_pers_deaths_df[\"pers diff\"]\n",
    "\n",
    "# ru_pers_deaths_df[\"Dt_OBJ\"] = ru_pers_deaths_df['date'].apply(lambda x : datetime.strptime(x, '%Y-%m-%d'))\n",
    "# ru_pers_deaths_df.head()\n",
    "\n",
    "# ru_pers_by_month_df = ru_pers_deaths_df.groupby(pd.Grouper(key='Dt_OBJ', freq='M'))\n",
    "# ru_pers_by_month_df.sum()[\"pers diff\"]\n",
    "# ru_pers_deaths_df['Dt_OBJ'][1].month\n"
   ]
  },
  {
   "cell_type": "markdown",
   "metadata": {},
   "source": [
    "# Create season dataframes"
   ]
  },
  {
   "cell_type": "code",
   "execution_count": null,
   "metadata": {},
   "outputs": [],
   "source": [
    "def return_seasonal_dataframes(df_name, column_name):\n",
    "    '''Only return season dataframes\n",
    "    Args: dataframe, str for column\n",
    "    returns four dataframes in order spring, summer, fall, winter\n",
    "    '''\n",
    "    springdf = df_name[(df_name[\"Int_month\"] == 3) | (df_name[\"Int_month\"] == 4) |\n",
    "                                                (df_name[\"Int_month\"] == 5)]\n",
    "    summerdf = df_name[(df_name[\"Int_month\"] == 6) | (df_name[\"Int_month\"] == 7) |\n",
    "                                                (df_name[\"Int_month\"] == 8)]\n",
    "    falldf = df_name[(df_name[\"Int_month\"] == 9) | (df_name[\"Int_month\"] == 10) |\n",
    "                                                (df_name[\"Int_month\"] == 11)]\n",
    "    winterdf = df_name[(df_name[\"Int_month\"] == 12) | (df_name[\"Int_month\"] == 1) |\n",
    "                                                (df_name[\"Int_month\"] == 2)]\n",
    "    \n",
    "    return springdf,summerdf,falldf,winterdf\n",
    "\n",
    "def create_seasonal_comparisons(df_name, column_name):\n",
    "    # split the given dataframe into seasons, plot the dataframes\n",
    "    # run T-Tests against spring and print results\n",
    "\n",
    "    \n",
    "    #df_name[\"Int_month\"] = df_name[\"Dt_OBJ\"].dt.month\n",
    "\n",
    "    ru_deaths_summerdf = df_name[(df_name[\"Int_month\"] == 6) | (df_name[\"Int_month\"] == 7) |\n",
    "                                                (df_name[\"Int_month\"] == 8)]\n",
    "    ru_deaths_falldf = df_name[(df_name[\"Int_month\"] == 9) | (df_name[\"Int_month\"] == 10) |\n",
    "                                                (df_name[\"Int_month\"] == 11)]\n",
    "    ru_deaths_winterdf = df_name[(df_name[\"Int_month\"] == 12) | (df_name[\"Int_month\"] == 1) |\n",
    "                                                (df_name[\"Int_month\"] == 2)]\n",
    "    ru_deaths_springdf = df_name[(df_name[\"Int_month\"] == 3) | (df_name[\"Int_month\"] == 4) |\n",
    "                                                (df_name[\"Int_month\"] == 5)]\n",
    "    \n",
    "    ru_deaths_summerdf[f\"{column_name}\"].plot()\n",
    "    ru_deaths_springdf[f\"{column_name}\"].plot()\n",
    "    ru_deaths_falldf[f\"{column_name}\"].plot()\n",
    "    ru_deaths_winterdf[f\"{column_name}\"].plot()\n",
    "    print(\"Summer mean:\", ru_deaths_summerdf[f\"{column_name}\"].mean())\n",
    "    print(\"Spring mean:\" ,ru_deaths_springdf[f\"{column_name}\"].mean())\n",
    "    print(\"Fall mean:\" ,ru_deaths_falldf[f\"{column_name}\"].mean())\n",
    "    print(\"Winter mean:\" ,ru_deaths_winterdf[f\"{column_name}\"].mean())\n",
    "    \n",
    "    print(\"Winter vs Spring:\" , stats.ttest_ind(ru_deaths_winterdf[f\"{column_name}\"], ru_deaths_springdf[f\"{column_name}\"]))\n",
    "    print(\"Summer vs Spring:\" ,stats.ttest_ind(ru_deaths_summerdf[f\"{column_name}\"], ru_deaths_springdf[f\"{column_name}\"]))\n",
    "    print(\"Fall vs Spring:\" ,stats.ttest_ind(ru_deaths_falldf[f\"{column_name}\"], ru_deaths_springdf[f\"{column_name}\"]))\n",
    "\n",
    "# Add color vairable, change seasonal plot\n",
    "\n",
    "\n",
    "def trend_line_w_outliers(df_name, column_name, draw_data=False,color=(\"blue\",\"yellow\",\"green\",\"grey\"), draw_trend=True ):\n",
    "    ''' slightly misleading, but calls for draw trend line do all the work\n",
    "    split DF into seasons, with options to draw the data to a plot, the trend line, or both\n",
    "    color expects a 4-tuple of string color names for plotting\n",
    "    Args: dataframe, str, boolean, 4-len tuple, boolean\n",
    "    '''\n",
    "    \n",
    "    ru_deaths_summerdf = df_name[(df_name[\"Int_month\"] == 6) | (df_name[\"Int_month\"] == 7) |\n",
    "                                                (df_name[\"Int_month\"] == 8)]\n",
    "    ru_deaths_falldf = df_name[(df_name[\"Int_month\"] == 9) | (df_name[\"Int_month\"] == 10) |\n",
    "                                                (df_name[\"Int_month\"] == 11)]\n",
    "    ru_deaths_winterdf = df_name[(df_name[\"Int_month\"] == 12) | (df_name[\"Int_month\"] == 1) |\n",
    "                                                (df_name[\"Int_month\"] == 2)]\n",
    "    ru_deaths_springdf = df_name[(df_name[\"Int_month\"] == 3) | (df_name[\"Int_month\"] == 4) |\n",
    "                                                (df_name[\"Int_month\"] == 5)]\n",
    "    plt.figure(figsize=(12, 6))\n",
    "\n",
    "    summer_std = ru_deaths_summerdf[f\"{column_name}\"].std()\n",
    "    fall_std = ru_deaths_falldf[f\"{column_name}\"].std()\n",
    "    winter_std = ru_deaths_winterdf[f\"{column_name}\"].std()\n",
    "    spring_std = ru_deaths_springdf[f\"{column_name}\"].std()\n",
    "    if draw_data:\n",
    "        plt.plot(df_name[\"Dt_OBJ\"],df_name[f\"{column_name}\"])\n",
    "    \n",
    "    print(\"Spring:\")\n",
    "    draw_trend_line(ru_deaths_springdf,column_name,color[0],draw_trend)\n",
    "    print(\"Summer:\")\n",
    "    draw_trend_line(ru_deaths_summerdf,column_name,color[1],draw_trend)\n",
    "    print(\"Fall:\")\n",
    "    draw_trend_line(ru_deaths_falldf,column_name,color[2],draw_trend)\n",
    "    print(\"Winter:\")\n",
    "    draw_trend_line(ru_deaths_winterdf,column_name,color[3],draw_trend)\n",
    "   \n",
    "    \n",
    "    \n",
    "\n",
    "def draw_trend_line(df_name, column_name, color_name, draw_trend=True):\n",
    "    #Attach december to the next year for plotting purposes\n",
    "    outlier_counter = 0\n",
    "\n",
    "\n",
    "    yearly_data = df_name.groupby(df_name[\"Int_year\"])\n",
    "    df_name_mean = df_name[f\"{column_name}\"].median()\n",
    "    \n",
    "    for year, data in yearly_data:\n",
    "        # print(\"yearly\", year, data.head())\n",
    "        df_name_std = data[f\"{column_name}\"].std()\n",
    "        df_name_mean = data[f\"{column_name}\"].mean()\n",
    "        # print(f\"{year}:STD : {df_name_std}\")\n",
    "        # print(f\"{year}:mean : {df_name_mean}\")\n",
    "        \n",
    "        first_point = data.iloc[0]\n",
    "        last_point = data.iloc[-1]\n",
    "        if draw_trend:\n",
    "            plt.plot([first_point[\"Dt_OBJ\"], last_point[\"Dt_OBJ\"]], \n",
    "                    [first_point[f'{column_name}'], last_point[f'{column_name}']], \n",
    "                    marker='o', color=color_name)\n",
    "        \n",
    "        for points in range(len(data)):\n",
    "            \n",
    "            if (data[f\"{column_name}\"].iloc[points] > (df_name_std * 2) + df_name_mean):\n",
    "                #or (df_name[f\"{column_name}\"].iloc[points] < df_name_mean - df_name_std)\n",
    "                # print(\" Outlier at \",data[\"Int_month\"].iloc[points],  data[f\"{column_name}\"].iloc[points])\n",
    "                outlier_counter += 1\n",
    "                plt.plot(data[\"Dt_OBJ\"].iloc[points],data[f\"{column_name}\"].iloc[points], marker='x',color=\"black\")\n",
    "\n",
    "    \n",
    "    plt.xlabel('Date')\n",
    "    plt.ylabel('Value')\n",
    "    plt.title('Trend Lines for Each Month')\n",
    "    plt.legend()\n",
    "    plt.grid(True)\n",
    "    print(f\"Total season outliers: {outlier_counter}\")\n",
    "\n",
    "# y = df['passengers']\n",
    "# x = df['lag_1']\n",
    "# model = sm.OLS(y, sm.add_constant(x))\n",
    "# results = model.fit()\n",
    "# b, m = results.params\n",
    "# IQR, standard deviation to find outliers. plot them, take linear regression lines for each season"
   ]
  },
  {
   "cell_type": "code",
   "execution_count": null,
   "metadata": {},
   "outputs": [],
   "source": [
    "# for i in range(len(ru_pers_deaths_df)):\n",
    "#         if ru_pers_deaths_df[\"Int_month\"].iloc[i] == 12:\n",
    "#             ru_pers_deaths_df.iloc[i, ru_pers_deaths_df.columns.get_loc('Int_year')] += 1\n",
    "\n",
    "trend_line_w_outliers(ru_pers_deaths_df, \"personnel diff\",draw_data=False)\n",
    "\n",
    "\n",
    "# SNS.REGPLOT"
   ]
  },
  {
   "cell_type": "code",
   "execution_count": null,
   "metadata": {},
   "outputs": [],
   "source": [
    "trend_line_w_outliers(ru_equip_deaths_df, \"tank diff\",draw_data=False,draw_trend=True)\n"
   ]
  },
  {
   "cell_type": "code",
   "execution_count": null,
   "metadata": {},
   "outputs": [],
   "source": [
    "trend_line_w_outliers(ru_equip_deaths_df, \"APC diff\",draw_data=True,draw_trend=False)"
   ]
  },
  {
   "cell_type": "code",
   "execution_count": null,
   "metadata": {},
   "outputs": [],
   "source": [
    "trend_line_w_outliers(ru_equip_deaths_df, \"field artillery diff\",draw_data=True,draw_trend=False)"
   ]
  },
  {
   "cell_type": "code",
   "execution_count": null,
   "metadata": {},
   "outputs": [],
   "source": [
    "plt.figure(figsize=(12, 6))\n",
    "ru_pers_deaths_df.plot.line(x=\"Dt_OBJ\", y=\"personnel diff\")"
   ]
  },
  {
   "cell_type": "code",
   "execution_count": null,
   "metadata": {},
   "outputs": [],
   "source": [
    "\n",
    "create_seasonal_comparisons(ru_pers_deaths_df, \"personnel diff\")\n"
   ]
  },
  {
   "cell_type": "code",
   "execution_count": null,
   "metadata": {},
   "outputs": [],
   "source": [
    "create_seasonal_comparisons(ru_equip_deaths_df, \"APC diff\")"
   ]
  },
  {
   "cell_type": "code",
   "execution_count": null,
   "metadata": {},
   "outputs": [],
   "source": [
    "create_seasonal_comparisons(ru_equip_deaths_df, \"field artillery diff\")"
   ]
  },
  {
   "cell_type": "code",
   "execution_count": null,
   "metadata": {},
   "outputs": [],
   "source": [
    "\n",
    "create_seasonal_comparisons(ru_equip_deaths_df, \"vehicles and fuel tanks diff\")"
   ]
  },
  {
   "cell_type": "code",
   "execution_count": null,
   "metadata": {},
   "outputs": [],
   "source": [
    "def seasonal_decomposition(df_name, column_name):\n",
    "\n",
    "    equip_analysis = df_name.loc[0::,[\"Dt_OBJ\", f\"{column_name} diff\"]]\n",
    "    equip_analysis.set_index(\"Dt_OBJ\", inplace=True)\n",
    "    decompose_result = seasonal_decompose(equip_analysis,period=90)\n",
    "    trend = decompose_result.trend\n",
    "    seasonal = decompose_result.seasonal\n",
    "    resid_season = decompose_result.resid\n",
    "    decompose_result.plot()\n",
    "    return trend, seasonal, resid_season, decompose_result\n",
    "\n",
    "apc_trend, apc_seasonal, apc_resid, APC_decomp = seasonal_decomposition(ru_equip_deaths_df,\"APC\")"
   ]
  },
  {
   "cell_type": "code",
   "execution_count": null,
   "metadata": {},
   "outputs": [],
   "source": [
    "apc_trend.plot()\n",
    "plt.axvline(x=datetime(2022,8,29),color=\"red\")\n",
    "plt.axvline(x=datetime(2023,9,1))\n",
    "plt.axvline(x=datetime(2022,7,3),color=\"black\")"
   ]
  },
  {
   "cell_type": "code",
   "execution_count": null,
   "metadata": {},
   "outputs": [],
   "source": [
    "pers_trend, pers_seasonal, pers_resid, pers_decomp = seasonal_decomposition(ru_pers_deaths_df,\"personnel\")"
   ]
  },
  {
   "cell_type": "code",
   "execution_count": null,
   "metadata": {},
   "outputs": [],
   "source": [
    "pers_trend.plot()\n",
    "plt.axvline(x=datetime(2022,8,29),color=\"red\")\n",
    "plt.axvline(x=datetime(2023,9,1))\n",
    "plt.axvline(x=datetime(2022,7,3),color=\"black\")"
   ]
  },
  {
   "cell_type": "code",
   "execution_count": null,
   "metadata": {},
   "outputs": [],
   "source": [
    "#testing lags at different areas\n",
    "\n",
    "# group into seasons, compare means of seasons, drop back into days, t-test\n",
    "# seasonal decomposition sarima\n",
    "\n",
    "# outlier analysis"
   ]
  },
  {
   "cell_type": "markdown",
   "metadata": {},
   "source": [
    "### Checks for stationarity"
   ]
  },
  {
   "cell_type": "code",
   "execution_count": null,
   "metadata": {},
   "outputs": [],
   "source": [
    "check_stationarity(ru_equip_deaths_df[\"vehicles and fuel tanks diff\"])"
   ]
  },
  {
   "cell_type": "code",
   "execution_count": null,
   "metadata": {},
   "outputs": [],
   "source": [
    "ru_equip_deaths_df[\"vehicles and fuel tanks\"].diff(1).dropna().plot.line(y=\"day\")"
   ]
  },
  {
   "cell_type": "code",
   "execution_count": null,
   "metadata": {},
   "outputs": [],
   "source": [
    "check_stationarity(ru_equip_deaths_df[\"tank\"].diff(1).dropna())\n",
    "\n"
   ]
  },
  {
   "cell_type": "code",
   "execution_count": null,
   "metadata": {},
   "outputs": [],
   "source": [
    "from pandas.plotting import autocorrelation_plot\n",
    "autocorrelation_plot(ru_equip_deaths_df[\"tank\"].diff(1).dropna())\n",
    "autocorrelation_plot(ru_equip_deaths_df[\"tank\"].dropna())\n"
   ]
  },
  {
   "cell_type": "code",
   "execution_count": null,
   "metadata": {},
   "outputs": [],
   "source": [
    "autocorrelation_plot(ru_equip_deaths_df[\"vehicles and fuel tanks\"].diff(1).dropna())"
   ]
  },
  {
   "cell_type": "code",
   "execution_count": null,
   "metadata": {},
   "outputs": [],
   "source": [
    "ru_equip_deaths_df[\"tank\"].diff(1).dropna().hist()\n",
    "plt.close()"
   ]
  },
  {
   "cell_type": "code",
   "execution_count": null,
   "metadata": {},
   "outputs": [],
   "source": [
    "ru_pers_deaths_df[\"personnel\"].diff(-1).dropna().hist()\n",
    "plt.close()"
   ]
  },
  {
   "cell_type": "code",
   "execution_count": null,
   "metadata": {},
   "outputs": [],
   "source": [
    "autocorrelation_plot(ru_pers_deaths_df[\"personnel\"].diff(-1).dropna())\n",
    "plt.close()"
   ]
  },
  {
   "cell_type": "code",
   "execution_count": null,
   "metadata": {},
   "outputs": [],
   "source": [
    "plot_acf(ru_equip_deaths_df[\"tank\"].diff(1).dropna()) \n",
    "plot_pacf(ru_equip_deaths_df[\"tank\"].diff(1).dropna()) \n",
    "plt.show()\n",
    "plt.close()"
   ]
  },
  {
   "cell_type": "code",
   "execution_count": null,
   "metadata": {},
   "outputs": [],
   "source": [
    "autocorrelation_plot(ru_equip_deaths_df[\"tank\"].diff(1).dropna())\n",
    "plt.close()"
   ]
  },
  {
   "cell_type": "code",
   "execution_count": null,
   "metadata": {},
   "outputs": [],
   "source": [
    "# use pd.cut to bin by seasons (i.e. spring, summer, fall, winter), according to the ukrainian climate.\n",
    "# hypothesis, there will be a statistically significant change in casualty rates \n",
    "# across vehicle and personnel in spring\n",
    "# Furthermore that change will be lower than summer and fall casualty rates"
   ]
  },
  {
   "cell_type": "code",
   "execution_count": null,
   "metadata": {},
   "outputs": [],
   "source": [
    "apc_spring_df, apc_summer_df, apc_fall_df, apc_winter_df = return_seasonal_dataframes(ru_equip_deaths_df,'APC diff')\n",
    "plot_acf(ru_equip_deaths_df[\"APC diff\"]) \n",
    "plot_pacf(ru_equip_deaths_df[\"APC diff\"]) \n",
    "plt.show()\n",
    "plt.close()"
   ]
  },
  {
   "cell_type": "code",
   "execution_count": null,
   "metadata": {},
   "outputs": [],
   "source": [
    "plt.close()"
   ]
  },
  {
   "cell_type": "markdown",
   "metadata": {},
   "source": [
    "# The SARIMA MODELS"
   ]
  },
  {
   "cell_type": "markdown",
   "metadata": {},
   "source": [
    "## Code below here is Fitting and reviewing models.\n",
    "##### These may be computationally expensive!"
   ]
  },
  {
   "cell_type": "code",
   "execution_count": null,
   "metadata": {},
   "outputs": [],
   "source": [
    "# wrap in\n",
    "\n",
    "from sklearn.model_selection import TimeSeriesSplit\n",
    "from sklearn.metrics import mean_squared_error\n",
    "\n",
    "#Split the train and test\n",
    "X = ru_equip_deaths_df[\"APC diff\"]\n",
    "tscsv = TimeSeriesSplit()\n",
    "for i, (train_index, test_index) in enumerate(tscsv.split(X)):\n",
    "    X_train = ru_equip_deaths_df.iloc[train_index]\n",
    "    y_train = ru_equip_deaths_df.iloc[train_index][\"APC diff\"]\n",
    "    X_test = ru_equip_deaths_df.iloc[test_index]\n",
    "    y_test = ru_equip_deaths_df.iloc[test_index][\"APC diff\"]\n",
    "\n",
    "    # forecast"
   ]
  },
  {
   "cell_type": "code",
   "execution_count": null,
   "metadata": {},
   "outputs": [],
   "source": [
    "# GRID SEARCH\n",
    "# this would take a long time to implement, will run auto arima for a ballpark and try to manually find best fit\n",
    "# make sure you have a large chunk of memory. searching for this m value is very expensive\n",
    "\n",
    "Arima_model= auto_arima(y_train, start_p=1, \n",
    "                        start_q=1, \n",
    "                        max_p=8, \n",
    "                        max_q=8, \n",
    "                        start_P=0, \n",
    "                        start_Q=0, \n",
    "                        max_P=8, \n",
    "                        max_Q=8,\n",
    "                        m=30, \n",
    "                        seasonal=True, \n",
    "                        trace=True, \n",
    "                        d=1, D=1, \n",
    "                        error_action='warn', \n",
    "                        suppress_warnings=True, \n",
    "                        random_state = 20, \n",
    "                        n_fits=30)\n",
    "\n",
    "\n",
    "# def parameter_grid_search()\n",
    "\n",
    "# def sarima_forecast(history, config):\n",
    "#  order, sorder, trend = config\n",
    "#  model = SARIMAX(history, order=order, seasonal_order=sorder, trend=trend, enforce_stationarity=False, enforce_invertibility=False)\n",
    " \n",
    "#  model_fit = model.fit(disp=False)\n",
    "#  # make one step forecast\n",
    "#  yhat = model_fit.predict(len(history), len(history))\n",
    "#  return yhat[0]\n",
    "\n",
    "# def model_validation_stepper(df_name, n_test, cfg):\n",
    "#     predictions = list()\n",
    "#ARIMA(2,1,0)(7,1,0)[12] \n"
   ]
  },
  {
   "cell_type": "code",
   "execution_count": null,
   "metadata": {},
   "outputs": [],
   "source": [
    "Arima_model.fit(y_train)\n",
    "\n",
    "forecaster = Arima_model.predict(len(y_test)-1)\n"
   ]
  },
  {
   "cell_type": "code",
   "execution_count": null,
   "metadata": {},
   "outputs": [],
   "source": [
    "type(forecaster)"
   ]
  },
  {
   "cell_type": "code",
   "execution_count": null,
   "metadata": {},
   "outputs": [],
   "source": [
    "forecaster.plot.line()"
   ]
  },
  {
   "cell_type": "code",
   "execution_count": null,
   "metadata": {},
   "outputs": [],
   "source": [
    "#  ARIMA(2,1,0)(7,1,0)[12] \n",
    "\n",
    "\n",
    "# Define SARIMA parameters by results of autoarima.  worst case try these\n",
    "p, d, q = 2, 1, 0 \n",
    "P, D, Q, s = 7, 1, 0, 30   \n",
    "  \n",
    "# Fit the SARIMA model \n",
    "# ar_model = ARIMA(ru_equip_deaths_df[\"tank\"].diff(1).dropna(), order=(p,d,q))\n",
    "model = SARIMAX(y_train, order=(p, d, q), seasonal_order=(P, D, Q, s)) \n",
    "results = model.fit() \n"
   ]
  },
  {
   "cell_type": "code",
   "execution_count": null,
   "metadata": {},
   "outputs": [],
   "source": [
    "predictions = results.predict(start=0, end=len(y_train)-1)\n",
    "\n"
   ]
  },
  {
   "cell_type": "code",
   "execution_count": null,
   "metadata": {},
   "outputs": [],
   "source": [
    "forecast = results.get_forecast(steps=90)\n",
    "\n",
    "forecast_df = pd.DataFrame(forecast.predicted_mean)\n",
    "forecast_df"
   ]
  },
  {
   "cell_type": "code",
   "execution_count": null,
   "metadata": {},
   "outputs": [],
   "source": [
    "results.summary()"
   ]
  },
  {
   "cell_type": "code",
   "execution_count": null,
   "metadata": {},
   "outputs": [],
   "source": [
    "# fig, ax = plt.subplots()\n",
    "forecast= results.get_forecast(steps=len(y_test)-1)\n",
    "forecast_df = pd.DataFrame(forecast.predicted_mean)\n",
    "forecast_df"
   ]
  },
  {
   "cell_type": "code",
   "execution_count": null,
   "metadata": {},
   "outputs": [],
   "source": [
    "inp = input()\n",
    "if inp in ru_equip_deaths_df.columns:\n",
    "    print(\"it work\")"
   ]
  },
  {
   "cell_type": "code",
   "execution_count": null,
   "metadata": {},
   "outputs": [],
   "source": [
    "\n",
    "\n",
    "# plt.plot(y_train.index,y_test[1])\n",
    "plt.plot()\n",
    "y_train.plot.line()\n",
    "plt.plot(forecaster.index,forecaster.values)\n",
    "y_test.plot.line()\n",
    "\n"
   ]
  },
  {
   "cell_type": "markdown",
   "metadata": {},
   "source": [
    "#### losses per day cannot be negative\n",
    "##### Roll through predictions and set negative predicts to zero"
   ]
  },
  {
   "cell_type": "code",
   "execution_count": null,
   "metadata": {},
   "outputs": [],
   "source": [
    "predictions[predictions < 0] = 0\n"
   ]
  },
  {
   "cell_type": "code",
   "execution_count": null,
   "metadata": {},
   "outputs": [],
   "source": [
    "ru_equip_deaths_df[\"APC diff\"].plot.line()\n",
    "predictions.plot.line()\n"
   ]
  },
  {
   "cell_type": "code",
   "execution_count": null,
   "metadata": {},
   "outputs": [],
   "source": [
    "residuals = ru_equip_deaths_df[\"APC diff\"] - predictions\n",
    "residuals.dropna(inplace=True)\n",
    "\n",
    "residuals = pd.DataFrame(residuals)\n",
    "residuals.reset_index()\n",
    "residuals.columns = ['diff']\n",
    "\n",
    "\n",
    "fig, ax = plt.subplots(figsize=(14, 4))\n",
    "# ax.scatter(range(len(predictions)), predictions, color=\"red\", label=\"y true values\")\n",
    "ax.scatter(range(len(residuals)), residuals, color=\"k\", label='y_hat')\n",
    "# for i in range(1, len(predictions)):\n",
    "#     plt.vlines(i,residuals['diff'][i],predictions[i],color=\"k\", linestyle=\"--\")\n",
    "\n",
    "    # 0,y_hat[0],y[0],color=\"k\", linestyle=\"--\"\n",
    "ax.legend()\n",
    "plt.title(\"AVG EXP\")\n",
    "plt.show()\n",
    "\n",
    "\n",
    "# AIC, BIC"
   ]
  },
  {
   "cell_type": "code",
   "execution_count": null,
   "metadata": {},
   "outputs": [],
   "source": [
    "cas_residuals = results.resid\n",
    "cas_residuals\n"
   ]
  },
  {
   "cell_type": "code",
   "execution_count": null,
   "metadata": {},
   "outputs": [],
   "source": [
    "\n",
    "predictions[predictions < 0] = 0\n",
    "plt.scatter(predictions[1::], cas_residuals[1::])\n",
    "plt.axhline(y=0,color=\"orange\",linestyle=\"--\")\n",
    "plt.show()\n"
   ]
  },
  {
   "cell_type": "code",
   "execution_count": null,
   "metadata": {},
   "outputs": [],
   "source": [
    "autocorrelation_plot(cas_residuals)"
   ]
  },
  {
   "cell_type": "code",
   "execution_count": null,
   "metadata": {},
   "outputs": [],
   "source": [
    "ru_equip_deaths_df[\"tank\"].diff(1).plot.line(y=\"day\")"
   ]
  },
  {
   "cell_type": "code",
   "execution_count": null,
   "metadata": {},
   "outputs": [],
   "source": [
    "ru_equip_deaths_df[\"tank\"].plot.line(y=\"day\")\n",
    "ru_equip_deaths_df[\"tank\"]\n",
    "plt.close()"
   ]
  }
 ],
 "metadata": {
  "kernelspec": {
   "display_name": "base",
   "language": "python",
   "name": "python3"
  },
  "language_info": {
   "codemirror_mode": {
    "name": "ipython",
    "version": 3
   },
   "file_extension": ".py",
   "mimetype": "text/x-python",
   "name": "python",
   "nbconvert_exporter": "python",
   "pygments_lexer": "ipython3",
   "version": "3.11.7"
  }
 },
 "nbformat": 4,
 "nbformat_minor": 2
}
